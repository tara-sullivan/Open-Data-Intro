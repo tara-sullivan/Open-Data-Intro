{
 "cells": [
  {
   "cell_type": "markdown",
   "id": "9da02098-886d-4a12-b5d6-c4f27f2f6b83",
   "metadata": {},
   "source": [
    "# Open Data Rat Complaints"
   ]
  },
  {
   "cell_type": "markdown",
   "id": "1faa224d-4152-4d1d-b35e-47e88133b9e1",
   "metadata": {},
   "source": [
    "We know that 311 service requests can be found on Open Data [here](https://data.cityofnewyork.us/Social-Services/311-Service-Requests-from-2010-to-Present/erm2-nwe9/about_data). This dataset is large, so we should use the API query to access it!"
   ]
  },
  {
   "cell_type": "markdown",
   "id": "e49dcc35-e2ca-4af8-9d9b-feba026149ed",
   "metadata": {},
   "source": [
    "## Socrata API"
   ]
  },
  {
   "cell_type": "code",
   "execution_count": 3,
   "id": "a7316c77-f572-4163-a062-3c0ec74e30bc",
   "metadata": {
    "collapsed": true,
    "jupyter": {
     "outputs_hidden": true
    },
    "tags": []
   },
   "outputs": [
    {
     "name": "stdout",
     "output_type": "stream",
     "text": [
      "Collecting sodapy\n",
      "  Downloading sodapy-2.2.0-py2.py3-none-any.whl (15 kB)\n",
      "Requirement already satisfied: requests>=2.28.1 in /opt/conda/lib/python3.9/site-packages (from sodapy) (2.28.1)\n",
      "Requirement already satisfied: certifi>=2017.4.17 in /opt/conda/lib/python3.9/site-packages (from requests>=2.28.1->sodapy) (2022.12.7)\n",
      "Requirement already satisfied: idna<4,>=2.5 in /opt/conda/lib/python3.9/site-packages (from requests>=2.28.1->sodapy) (3.3)\n",
      "Requirement already satisfied: urllib3<1.27,>=1.21.1 in /opt/conda/lib/python3.9/site-packages (from requests>=2.28.1->sodapy) (1.26.12)\n",
      "Requirement already satisfied: charset-normalizer<3,>=2 in /opt/conda/lib/python3.9/site-packages (from requests>=2.28.1->sodapy) (2.1.1)\n",
      "Installing collected packages: sodapy\n",
      "Successfully installed sodapy-2.2.0\n"
     ]
    }
   ],
   "source": [
    "# Ensure you have all of your packages installed\n",
    "# !pip install sodapy"
   ]
  },
  {
   "cell_type": "code",
   "execution_count": 4,
   "id": "c0a97c28-e4cc-4cd2-aea3-3dd8248389cd",
   "metadata": {
    "tags": []
   },
   "outputs": [],
   "source": [
    "import pandas as pd\n",
    "import os\n",
    "from sodapy import Socrata\n",
    "import time\n",
    "import math"
   ]
  },
  {
   "cell_type": "markdown",
   "id": "2ee479fa-b9b1-4a60-903f-82988e6d19b2",
   "metadata": {},
   "source": [
    "Using the [API documentation](https://dev.socrata.com/foundry/data.cityofnewyork.us/erm2-nwe9), we can see that the dataset id is \"erm2-nwe9\" (which is also in the open data hyperlink).\n",
    "\n",
    "You should generally use an [application token](https://dev.socrata.com/docs/app-tokens.html) when accessing the Socrata Open Data API. Otherwise you'll be subjected to strict throttling limits. I recommend saving your token as an environment variable, but you can also use a string (just be careful not to save your token in a public place, like in a public github repo)."
   ]
  },
  {
   "cell_type": "code",
   "execution_count": 23,
   "id": "24a75c3c-b736-4cee-9db5-6363bc7fc6e4",
   "metadata": {
    "tags": []
   },
   "outputs": [],
   "source": [
    "# I would recommend saving your socrata token as an environment variable!\n",
    "app_token = os.getenv('SOCRATA_API')\n",
    "# You could also save it as a string. The default is None. \n",
    "# SOCRATA_API = None\n",
    "\n",
    "# Save the 311 dataset id\n",
    "dataset_id = 'erm2-nwe9'"
   ]
  },
  {
   "cell_type": "markdown",
   "id": "98a1fbad-862b-4700-9bd7-f0ca11b220fd",
   "metadata": {},
   "source": [
    "The Socrata API lets you filter your data, which helps when you're using large datasets. \n",
    "Some of the standard filters can be found [here](https://dev.socrata.com/docs/queries/).\n",
    "It's often helpful to filter on dates, which can be a bit trickier ([link](https://dev.socrata.com/docs/transforms/)). "
   ]
  },
  {
   "cell_type": "code",
   "execution_count": 30,
   "id": "8d9ce2cb-00e8-4ab9-8e2a-5e6739149c40",
   "metadata": {
    "tags": []
   },
   "outputs": [],
   "source": [
    "where_str = '''\n",
    "1=1 AND (\n",
    "((complaint_type = 'School Maintenance') AND (descriptor = 'Rodents/Mice'))\n",
    "OR ((complaint_type = 'Food Establishment') AND (descriptor = 'Rodents/Insects/Garbage'))\n",
    "OR ((complaint_type = 'Rodent') AND (descriptor = 'Rat Sighting'))\n",
    "OR ((complaint_type = 'Rodent') AND (descriptor = 'Signs of Rodents'))\n",
    "OR ((complaint_type = 'Maintenance or Facility') AND (descriptor = 'Rodent Sighting'))\n",
    "OR ((complaint_type = 'Dead Animal') AND (descriptor = 'Rat or Mouse'))\n",
    "OR ((complaint_type = 'UNSANITARY CONDITION') AND (descriptor = 'PESTS'))\n",
    ") AND (date_trunc_ymd(created_date) >= '2019-01-01')\n",
    "'''"
   ]
  },
  {
   "cell_type": "code",
   "execution_count": 34,
   "id": "03545295-b917-46b3-8a4a-5ea81a9347d6",
   "metadata": {
    "tags": []
   },
   "outputs": [
    {
     "name": "stdout",
     "output_type": "stream",
     "text": [
      "Check if shape looks reasonable\n",
      "CPU times: user 11.3 s, sys: 1.38 s, total: 12.7 s\n",
      "Wall time: 35.9 s\n"
     ]
    },
    {
     "data": {
      "text/plain": [
       "(450235, 38)"
      ]
     },
     "execution_count": 34,
     "metadata": {},
     "output_type": "execute_result"
    }
   ],
   "source": [
    "%%time\n",
    "\n",
    "# Note that you likely need to change the data limit\n",
    "client = Socrata(\"data.cityofnewyork.us\", app_token)\n",
    "# timeout; default is 10sec\n",
    "client.timeout = 120\n",
    "\n",
    "results = client.get(dataset_id, where=where_str, limit=1000000)\n",
    "opendata_df = pd.DataFrame.from_records(results)\n",
    "print('Check if shape looks reasonable (does it match the provided limit?)')\n",
    "opendata_df.shape"
   ]
  },
  {
   "cell_type": "markdown",
   "id": "4c90863d-2e5d-4592-b433-6522ad326a57",
   "metadata": {},
   "source": [
    "I also wrote a small program (saved in socrata.py) that does this for you."
   ]
  },
  {
   "cell_type": "code",
   "execution_count": 35,
   "id": "7325e323-8a0f-4669-9ed8-760f515ca2b6",
   "metadata": {
    "tags": []
   },
   "outputs": [],
   "source": [
    "from socrata import socrata_api_query\n",
    "\n",
    "rat_df = socrata_api_query(\n",
    "    dataset_id=dataset_id,\n",
    "    where=where_str,\n",
    "    limit=1000000\n",
    ")\n",
    "rat_df.shape"
   ]
  }
 ],
 "metadata": {
  "kernelspec": {
   "display_name": "Python 3 (ipykernel)",
   "language": "python",
   "name": "python3"
  },
  "language_info": {
   "codemirror_mode": {
    "name": "ipython",
    "version": 3
   },
   "file_extension": ".py",
   "mimetype": "text/x-python",
   "name": "python",
   "nbconvert_exporter": "python",
   "pygments_lexer": "ipython3",
   "version": "3.9.16"
  }
 },
 "nbformat": 4,
 "nbformat_minor": 5
}
